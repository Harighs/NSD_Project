{
 "cells": [
  {
   "cell_type": "code",
   "execution_count": 1,
   "metadata": {},
   "outputs": [
    {
     "name": "stderr",
     "output_type": "stream",
     "text": [
      "/home/hari/anaconda3/envs/brain-diffuser/lib/python3.8/site-packages/tqdm/auto.py:21: TqdmWarning: IProgress not found. Please update jupyter and ipywidgets. See https://ipywidgets.readthedocs.io/en/stable/user_install.html\n",
      "  from .autonotebook import tqdm as notebook_tqdm\n"
     ]
    }
   ],
   "source": [
    "import torch\n",
    "import torch.nn as nn\n",
    "import torch.nn.functional as F\n",
    "import torch.optim as optim\n",
    "import numpy as np\n",
    "import random\n",
    "import math\n",
    "import os\n",
    "import sys\n",
    "import time"
   ]
  },
  {
   "cell_type": "code",
   "execution_count": 2,
   "metadata": {},
   "outputs": [
    {
     "ename": "SyntaxError",
     "evalue": "invalid syntax (3436647311.py, line 6)",
     "output_type": "error",
     "traceback": [
      "\u001b[0;36m  File \u001b[0;32m\"/tmp/ipykernel_299193/3436647311.py\"\u001b[0;36m, line \u001b[0;32m6\u001b[0m\n\u001b[0;31m    exp_design_file = /media/hari/2TB_T7/DATASET/FMRI/NSD-Furkan_Ozcelik/ + \"nsddata/experiments/nsd/nsd_expdesign.mat\"\u001b[0m\n\u001b[0m                      ^\u001b[0m\n\u001b[0;31mSyntaxError\u001b[0m\u001b[0;31m:\u001b[0m invalid syntax\n"
     ]
    }
   ],
   "source": [
    "# import Vision Transformer from pytorch\n",
    "path = \"/media/hari/2TB_T7/DATASET/FMRI/NSD-Furkan_Ozcelik/brain-diffuser/data/processed_data/subj01/nsd_train_fmriavg_nsdgeneral_sub1_batch0.npy\"\n",
    "batch_data_file = \"/media/hari/2TB_T7/DATASET/FMRI/NSD-Furkan_Ozcelik/brain-diffuser/data/processed_data/subj01/nsd_train_fmriavg_nsdgeneral_sub1_batch0.npy\"\n",
    "\n",
    "\n",
    "exp_design_file = \"/media/hari/2TB_T7/DATASET/FMRI/NSD-Furkan_Ozcelik/\" + \"nsddata/experiments/nsd/nsd_expdesign.mat\"\n"
   ]
  },
  {
   "cell_type": "code",
   "execution_count": 17,
   "metadata": {},
   "outputs": [
    {
     "data": {
      "text/plain": [
       "(50, 15724)"
      ]
     },
     "execution_count": 17,
     "metadata": {},
     "output_type": "execute_result"
    }
   ],
   "source": [
    "# loading .nii.gz file\n",
    "import nibabel as nib\n",
    "import numpy as np\n",
    "\n",
    "# loading .npy file using nibabel\n",
    "np.load(batch_data_file).shape"
   ]
  },
  {
   "cell_type": "code",
   "execution_count": 4,
   "metadata": {},
   "outputs": [
    {
     "name": "stdout",
     "output_type": "stream",
     "text": [
      "10 (81, 104, 83, 750)\n",
      "11 (81, 104, 83, 750)\n",
      "12 (81, 104, 83, 750)\n",
      "13 (81, 104, 83, 750)\n",
      "14 (81, 104, 83, 750)\n",
      "15 (81, 104, 83, 750)\n",
      "16 (81, 104, 83, 750)\n",
      "17 (81, 104, 83, 750)\n",
      "18 (81, 104, 83, 750)\n",
      "19 (81, 104, 83, 750)\n",
      "20 (81, 104, 83, 750)\n",
      "21 (81, 104, 83, 750)\n",
      "22 (81, 104, 83, 750)\n",
      "23 (81, 104, 83, 750)\n",
      "24 (81, 104, 83, 750)\n",
      "25 (81, 104, 83, 750)\n",
      "26 (81, 104, 83, 750)\n",
      "27 (81, 104, 83, 750)\n",
      "28 (81, 104, 83, 750)\n",
      "29 (81, 104, 83, 750)\n",
      "30 (81, 104, 83, 750)\n",
      "31 (81, 104, 83, 750)\n",
      "32 (81, 104, 83, 750)\n",
      "33 (81, 104, 83, 750)\n",
      "34 (81, 104, 83, 750)\n",
      "35 (81, 104, 83, 750)\n",
      "36 (81, 104, 83, 750)\n",
      "37 (81, 104, 83, 750)\n"
     ]
    }
   ],
   "source": [
    "# loading .nii.gz file\n",
    "import nibabel as nib\n",
    "import numpy as np\n",
    "for i in range(9, 37):\n",
    "    path = f\"/media/hari/2TB_T7/DATASET/FMRI/NSD-Furkan_Ozcelik/nsddata_betas/ppdata/subj01/func1pt8mm/betas_fithrf_GLMdenoise_RR/betas_session{i+1}.nii.gz\"\n",
    "    img = nib.load(path)\n",
    "    img_data = img.get_fdata()\n",
    "    img_data = np.array(img_data)\n",
    "    print(i+1, img_data.shape)"
   ]
  },
  {
   "cell_type": "code",
   "execution_count": 5,
   "metadata": {},
   "outputs": [
    {
     "name": "stdout",
     "output_type": "stream",
     "text": [
      "10 (82, 106, 84, 750)\n",
      "11 (82, 106, 84, 750)\n",
      "12 (82, 106, 84, 750)\n",
      "13 (82, 106, 84, 750)\n",
      "14 (82, 106, 84, 750)\n",
      "15 (82, 106, 84, 750)\n",
      "16 (82, 106, 84, 750)\n",
      "17 (82, 106, 84, 750)\n",
      "18 (82, 106, 84, 750)\n",
      "19 (82, 106, 84, 750)\n",
      "20 (82, 106, 84, 750)\n",
      "21 (82, 106, 84, 750)\n",
      "22 (82, 106, 84, 750)\n",
      "23 (82, 106, 84, 750)\n",
      "24 (82, 106, 84, 750)\n",
      "25 (82, 106, 84, 750)\n",
      "26 (82, 106, 84, 750)\n",
      "27 (82, 106, 84, 750)\n",
      "28 (82, 106, 84, 750)\n",
      "29 (82, 106, 84, 750)\n",
      "30 (82, 106, 84, 750)\n",
      "31 (82, 106, 84, 750)\n",
      "32 (82, 106, 84, 750)\n",
      "33 (82, 106, 84, 750)\n",
      "34 (82, 106, 84, 750)\n",
      "35 (82, 106, 84, 750)\n",
      "36 (82, 106, 84, 750)\n",
      "37 (82, 106, 84, 750)\n"
     ]
    }
   ],
   "source": [
    "# print total model parameters\n",
    "for i in range(9, 37):\n",
    "    path = f\"/media/hari/2TB_T7/DATASET/FMRI/NSD-Furkan_Ozcelik/nsddata_betas/ppdata/subj02/func1pt8mm/betas_fithrf_GLMdenoise_RR/betas_session{i+1}.nii.gz\"\n",
    "    img = nib.load(path)\n",
    "    img_data = img.get_fdata()\n",
    "    img_data = np.array(img_data)\n",
    "    print(i+1, img_data.shape)"
   ]
  },
  {
   "cell_type": "code",
   "execution_count": 6,
   "metadata": {},
   "outputs": [
    {
     "name": "stdout",
     "output_type": "stream",
     "text": [
      "10 (79, 97, 78, 750)\n",
      "11 (79, 97, 78, 750)\n",
      "12 (79, 97, 78, 750)\n",
      "13 (79, 97, 78, 750)\n",
      "14 (79, 97, 78, 750)\n",
      "15 (79, 97, 78, 750)\n",
      "16 (79, 97, 78, 750)\n",
      "17 (79, 97, 78, 750)\n",
      "18 (79, 97, 78, 750)\n",
      "19 (79, 97, 78, 750)\n",
      "20 (79, 97, 78, 750)\n",
      "21 (79, 97, 78, 750)\n",
      "22 (79, 97, 78, 750)\n",
      "23 (79, 97, 78, 750)\n",
      "24 (79, 97, 78, 750)\n",
      "25 (79, 97, 78, 750)\n",
      "26 (79, 97, 78, 750)\n",
      "27 (79, 97, 78, 750)\n",
      "28 (79, 97, 78, 750)\n",
      "29 (79, 97, 78, 750)\n",
      "30 (79, 97, 78, 750)\n",
      "31 (79, 97, 78, 750)\n",
      "32 (79, 97, 78, 750)\n",
      "33 (79, 97, 78, 750)\n",
      "34 (79, 97, 78, 750)\n",
      "35 (79, 97, 78, 750)\n",
      "36 (79, 97, 78, 750)\n",
      "37 (79, 97, 78, 750)\n"
     ]
    }
   ],
   "source": [
    "for i in range(9, 37):\n",
    "    path = f\"/media/hari/2TB_T7/DATASET/FMRI/NSD-Furkan_Ozcelik/nsddata_betas/ppdata/subj05/func1pt8mm/betas_fithrf_GLMdenoise_RR/betas_session{i+1}.nii.gz\"\n",
    "    img = nib.load(path)\n",
    "    img_data = img.get_fdata()\n",
    "    img_data = np.array(img_data)\n",
    "    print(i+1, img_data.shape)"
   ]
  },
  {
   "cell_type": "code",
   "execution_count": 7,
   "metadata": {},
   "outputs": [
    {
     "name": "stdout",
     "output_type": "stream",
     "text": [
      "10 (78, 95, 81, 750)\n",
      "11 (78, 95, 81, 750)\n",
      "12 (78, 95, 81, 750)\n",
      "13 (78, 95, 81, 750)\n",
      "14 (78, 95, 81, 750)\n",
      "15 (78, 95, 81, 750)\n",
      "16 (78, 95, 81, 750)\n",
      "17 (78, 95, 81, 750)\n",
      "18 (78, 95, 81, 750)\n",
      "19 (78, 95, 81, 750)\n",
      "20 (78, 95, 81, 750)\n",
      "21 (78, 95, 81, 750)\n",
      "22 (78, 95, 81, 750)\n",
      "23 (78, 95, 81, 750)\n",
      "24 (78, 95, 81, 750)\n",
      "25 (78, 95, 81, 750)\n",
      "26 (78, 95, 81, 750)\n",
      "27 (78, 95, 81, 750)\n",
      "28 (78, 95, 81, 750)\n",
      "29 (78, 95, 81, 750)\n",
      "30 (78, 95, 81, 750)\n",
      "31 (78, 95, 81, 750)\n",
      "32 (78, 95, 81, 750)\n",
      "33 (78, 95, 81, 750)\n",
      "34 (78, 95, 81, 750)\n",
      "35 (78, 95, 81, 750)\n",
      "36 (78, 95, 81, 750)\n",
      "37 (78, 95, 81, 750)\n"
     ]
    }
   ],
   "source": [
    "for i in range(9, 37):\n",
    "    path = f\"/media/hari/2TB_T7/DATASET/FMRI/NSD-Furkan_Ozcelik/nsddata_betas/ppdata/subj07/func1pt8mm/betas_fithrf_GLMdenoise_RR/betas_session{i+1}.nii.gz\"\n",
    "    img = nib.load(path)\n",
    "    img_data = img.get_fdata()\n",
    "    img_data = np.array(img_data)\n",
    "    print(i+1, img_data.shape)"
   ]
  },
  {
   "cell_type": "markdown",
   "metadata": {},
   "source": [
    "### DATA PREPARRATION"
   ]
  },
  {
   "cell_type": "code",
   "execution_count": 4,
   "metadata": {},
   "outputs": [
    {
     "name": "stdout",
     "output_type": "stream",
     "text": [
      "dict_keys(['__header__', '__version__', '__globals__', 'basiccnt', 'masterordering', 'sharedix', 'stimpattern', 'subjectim'])\n"
     ]
    }
   ],
   "source": [
    "from scipy.io import loadmat\n",
    "\n",
    "\n",
    "exp_design_file = \"/media/hari/2TB_T7/DATASET/FMRI/NSD-Furkan_Ozcelik/\" + \"nsddata/experiments/nsd/nsd_expdesign.mat\"\n",
    "exp_design = loadmat(exp_design_file)\n",
    "print (exp_design.keys())"
   ]
  },
  {
   "cell_type": "code",
   "execution_count": 5,
   "metadata": {},
   "outputs": [],
   "source": [
    "basic_cnt    = exp_design['basiccnt']\n",
    "shared_idx   = exp_design['sharedix']\n",
    "subject_idx  = exp_design['subjectim']\n",
    "trial_order  = exp_design['masterordering']\n",
    "stim_pattern = exp_design['stimpattern']"
   ]
  },
  {
   "cell_type": "code",
   "execution_count": 23,
   "metadata": {},
   "outputs": [
    {
     "name": "stdout",
     "output_type": "stream",
     "text": [
      "(3, 40) (1, 1000) (8, 10000) (1, 30000) (40, 12, 75)\n"
     ]
    }
   ],
   "source": [
    "print(basic_cnt.shape, shared_idx.shape, subject_idx.shape, trial_order.shape, stim_pattern.shape)"
   ]
  },
  {
   "cell_type": "code",
   "execution_count": 34,
   "metadata": {},
   "outputs": [
    {
     "data": {
      "text/plain": [
       "array([[0, 0, 0, 1, 1, 1, 1, 1, 1, 1, 1, 1, 1, 1, 1, 0, 1, 1, 1, 1, 1, 1,\n",
       "        1, 1, 1, 1, 0, 1, 1, 1, 1, 1, 1, 1, 1, 1, 1, 1, 1, 0, 1, 1, 1, 1,\n",
       "        1, 1, 1, 1, 1, 1, 1, 0, 1, 1, 1, 1, 1, 1, 1, 1, 1, 0, 1, 1, 1, 1,\n",
       "        1, 1, 1, 1, 1, 0, 0, 0, 0],\n",
       "       [0, 0, 0, 1, 1, 1, 1, 1, 1, 1, 1, 1, 1, 1, 0, 1, 1, 1, 1, 1, 1, 1,\n",
       "        1, 1, 0, 1, 1, 1, 1, 1, 1, 1, 1, 1, 1, 0, 1, 1, 1, 1, 1, 1, 1, 1,\n",
       "        1, 1, 0, 1, 1, 1, 1, 1, 1, 1, 1, 1, 1, 1, 1, 0, 1, 1, 1, 1, 1, 1,\n",
       "        1, 1, 1, 1, 0, 0, 0, 0, 0],\n",
       "       [0, 0, 0, 1, 1, 1, 1, 1, 1, 1, 1, 1, 1, 0, 1, 1, 1, 1, 1, 1, 1, 1,\n",
       "        1, 1, 1, 1, 1, 1, 0, 1, 1, 1, 1, 1, 1, 1, 1, 1, 1, 1, 0, 1, 1, 1,\n",
       "        1, 1, 1, 1, 1, 1, 0, 1, 1, 1, 1, 1, 1, 1, 1, 1, 0, 1, 1, 1, 1, 1,\n",
       "        1, 1, 1, 1, 1, 0, 0, 0, 0],\n",
       "       [0, 0, 0, 1, 1, 1, 1, 1, 1, 1, 1, 1, 1, 0, 1, 1, 1, 1, 1, 1, 1, 1,\n",
       "        1, 0, 1, 1, 1, 1, 1, 1, 1, 1, 1, 1, 0, 1, 1, 1, 1, 1, 1, 1, 1, 1,\n",
       "        1, 1, 0, 1, 1, 1, 1, 1, 1, 1, 1, 1, 1, 1, 1, 0, 1, 1, 1, 1, 1, 1,\n",
       "        1, 1, 1, 1, 0, 0, 0, 0, 0],\n",
       "       [0, 0, 0, 1, 1, 1, 1, 1, 1, 1, 1, 1, 1, 0, 1, 1, 1, 1, 1, 1, 1, 1,\n",
       "        1, 1, 1, 1, 0, 1, 1, 1, 1, 1, 1, 1, 1, 1, 1, 1, 0, 1, 1, 1, 1, 1,\n",
       "        1, 1, 1, 1, 0, 1, 1, 1, 1, 1, 1, 1, 1, 1, 1, 1, 1, 0, 1, 1, 1, 1,\n",
       "        1, 1, 1, 1, 1, 0, 0, 0, 0],\n",
       "       [0, 0, 0, 1, 1, 1, 1, 1, 1, 1, 1, 1, 1, 1, 1, 0, 1, 1, 1, 1, 1, 1,\n",
       "        1, 1, 1, 1, 0, 1, 1, 1, 1, 1, 1, 1, 1, 1, 1, 1, 1, 0, 1, 1, 1, 1,\n",
       "        1, 1, 1, 1, 1, 0, 1, 1, 1, 1, 1, 1, 1, 1, 1, 0, 1, 1, 1, 1, 1, 1,\n",
       "        1, 1, 1, 1, 0, 0, 0, 0, 0],\n",
       "       [0, 0, 0, 1, 1, 1, 1, 1, 1, 1, 1, 1, 0, 1, 1, 1, 1, 1, 1, 1, 1, 1,\n",
       "        1, 0, 1, 1, 1, 1, 1, 1, 1, 1, 1, 1, 1, 1, 1, 1, 0, 1, 1, 1, 1, 1,\n",
       "        1, 1, 1, 1, 1, 1, 1, 0, 1, 1, 1, 1, 1, 1, 1, 1, 1, 0, 1, 1, 1, 1,\n",
       "        1, 1, 1, 1, 1, 0, 0, 0, 0],\n",
       "       [0, 0, 0, 1, 1, 1, 1, 1, 1, 1, 1, 1, 0, 1, 1, 1, 1, 1, 1, 1, 1, 1,\n",
       "        1, 0, 1, 1, 1, 1, 1, 1, 1, 1, 1, 1, 1, 0, 1, 1, 1, 1, 1, 1, 1, 1,\n",
       "        1, 1, 1, 0, 1, 1, 1, 1, 1, 1, 1, 1, 1, 1, 1, 1, 1, 0, 1, 1, 1, 1,\n",
       "        1, 1, 1, 1, 0, 0, 0, 0, 0],\n",
       "       [0, 0, 0, 1, 1, 1, 1, 1, 1, 1, 1, 1, 1, 1, 1, 1, 0, 1, 1, 1, 1, 1,\n",
       "        1, 1, 1, 1, 1, 1, 0, 1, 1, 1, 1, 1, 1, 1, 1, 1, 1, 1, 0, 1, 1, 1,\n",
       "        1, 1, 1, 1, 1, 1, 0, 1, 1, 1, 1, 1, 1, 1, 1, 1, 1, 0, 1, 1, 1, 1,\n",
       "        1, 1, 1, 1, 1, 0, 0, 0, 0],\n",
       "       [0, 0, 0, 1, 1, 1, 1, 1, 1, 1, 1, 1, 0, 1, 1, 1, 1, 1, 1, 1, 1, 1,\n",
       "        1, 1, 0, 1, 1, 1, 1, 1, 1, 1, 1, 1, 0, 1, 1, 1, 1, 1, 1, 1, 1, 1,\n",
       "        1, 0, 1, 1, 1, 1, 1, 1, 1, 1, 1, 1, 1, 1, 0, 1, 1, 1, 1, 1, 1, 1,\n",
       "        1, 1, 1, 1, 0, 0, 0, 0, 0],\n",
       "       [0, 0, 0, 1, 1, 1, 1, 1, 1, 1, 1, 1, 1, 1, 1, 0, 1, 1, 1, 1, 1, 1,\n",
       "        1, 1, 1, 1, 0, 1, 1, 1, 1, 1, 1, 1, 1, 1, 1, 1, 1, 0, 1, 1, 1, 1,\n",
       "        1, 1, 1, 1, 1, 0, 1, 1, 1, 1, 1, 1, 1, 1, 1, 1, 0, 1, 1, 1, 1, 1,\n",
       "        1, 1, 1, 1, 1, 0, 0, 0, 0],\n",
       "       [0, 0, 0, 1, 1, 1, 1, 1, 1, 1, 1, 1, 1, 1, 1, 1, 0, 1, 1, 1, 1, 1,\n",
       "        1, 1, 1, 1, 1, 0, 1, 1, 1, 1, 1, 1, 1, 1, 1, 1, 0, 1, 1, 1, 1, 1,\n",
       "        1, 1, 1, 1, 0, 1, 1, 1, 1, 1, 1, 1, 1, 1, 0, 1, 1, 1, 1, 1, 1, 1,\n",
       "        1, 1, 1, 1, 0, 0, 0, 0, 0]], dtype=uint8)"
      ]
     },
     "execution_count": 34,
     "metadata": {},
     "output_type": "execute_result"
    }
   ],
   "source": []
  },
  {
   "cell_type": "code",
   "execution_count": null,
   "metadata": {},
   "outputs": [],
   "source": []
  }
 ],
 "metadata": {
  "kernelspec": {
   "display_name": "brain-diffuser",
   "language": "python",
   "name": "python3"
  },
  "language_info": {
   "codemirror_mode": {
    "name": "ipython",
    "version": 3
   },
   "file_extension": ".py",
   "mimetype": "text/x-python",
   "name": "python",
   "nbconvert_exporter": "python",
   "pygments_lexer": "ipython3",
   "version": "3.8.13"
  }
 },
 "nbformat": 4,
 "nbformat_minor": 2
}
